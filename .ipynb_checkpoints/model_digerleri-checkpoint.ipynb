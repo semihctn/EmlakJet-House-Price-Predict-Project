{
 "cells": [
  {
   "cell_type": "code",
   "execution_count": 1,
   "id": "2fe5fd54-e31e-44cd-a691-1fab0bc18745",
   "metadata": {},
   "outputs": [
    {
     "name": "stdout",
     "output_type": "stream",
     "text": [
      "Requirement already satisfied: lightgbm in c:\\users\\asus\\anaconda3\\lib\\site-packages (3.2.1)\n",
      "Requirement already satisfied: scikit-learn!=0.22.0 in c:\\users\\asus\\anaconda3\\lib\\site-packages (from lightgbm) (0.24.1)\n",
      "Requirement already satisfied: wheel in c:\\users\\asus\\anaconda3\\lib\\site-packages (from lightgbm) (0.36.2)\n",
      "Requirement already satisfied: numpy in c:\\users\\asus\\anaconda3\\lib\\site-packages (from lightgbm) (1.18.1)\n",
      "Requirement already satisfied: scipy in c:\\users\\asus\\anaconda3\\lib\\site-packages (from lightgbm) (1.6.2)\n",
      "Requirement already satisfied: threadpoolctl>=2.0.0 in c:\\users\\asus\\anaconda3\\lib\\site-packages (from scikit-learn!=0.22.0->lightgbm) (2.1.0)\n",
      "Requirement already satisfied: joblib>=0.11 in c:\\users\\asus\\anaconda3\\lib\\site-packages (from scikit-learn!=0.22.0->lightgbm) (1.0.1)\n",
      "Note: you may need to restart the kernel to use updated packages.\n"
     ]
    }
   ],
   "source": [
    "pip install lightgbm"
   ]
  },
  {
   "cell_type": "code",
   "execution_count": 2,
   "id": "12b68b01-cf22-46ba-932c-a9ff5fd27655",
   "metadata": {},
   "outputs": [],
   "source": [
    "import pandas as pd\n",
    "import numpy as np\n",
    "from sklearn.model_selection import train_test_split\n",
    "from sklearn.metrics import mean_squared_error, r2_score\n",
    "from sklearn import model_selection"
   ]
  },
  {
   "cell_type": "code",
   "execution_count": 3,
   "id": "1bc94456-d516-4b13-af66-5704ee77697d",
   "metadata": {},
   "outputs": [
    {
     "data": {
      "text/plain": [
       "Index(['Semt', 'Mahalle', 'Tür', 'Oda Sayısı', 'Binanın Yaşı',\n",
       "       'Binanın Kat Sayısı', 'Bulunduğu Kat', 'Brüt Metrekare', 'Banyo Sayısı',\n",
       "       'Wc Sayısı', 'Site İçerisinde', 'Isıtma Tipi', 'Fiyat'],\n",
       "      dtype='object')"
      ]
     },
     "execution_count": 3,
     "metadata": {},
     "output_type": "execute_result"
    }
   ],
   "source": [
    "df=pd.read_excel(\"dfemlakjet_hazır.xlsx\")\n",
    "df.drop(\"Unnamed: 0\", axis=1,inplace=True)\n",
    "df.columns"
   ]
  },
  {
   "cell_type": "code",
   "execution_count": 4,
   "id": "69cd8192-b8e1-4ffb-bcc5-788d72b9ff4c",
   "metadata": {},
   "outputs": [],
   "source": [
    "X = df.drop([\"Fiyat\"], axis = 1)\n",
    "y = df[\"Fiyat\"]"
   ]
  },
  {
   "cell_type": "code",
   "execution_count": 5,
   "id": "34b87607-572f-40ae-900c-7cc8c9b5c504",
   "metadata": {},
   "outputs": [],
   "source": [
    "X_train, X_test, y_train, y_test = train_test_split(X, y, test_size = 0.25 , random_state = 144)"
   ]
  },
  {
   "cell_type": "code",
   "execution_count": 6,
   "id": "e4ad9b9d-fca0-4ede-ba0f-85958cb230fa",
   "metadata": {},
   "outputs": [],
   "source": [
    "from sklearn import linear_model\n",
    "model = linear_model.LinearRegression()"
   ]
  },
  {
   "cell_type": "code",
   "execution_count": 7,
   "id": "a51b23b5-a6f5-4068-89e3-ed4552f349e4",
   "metadata": {},
   "outputs": [
    {
     "data": {
      "text/plain": [
       "LinearRegression()"
      ]
     },
     "execution_count": 7,
     "metadata": {},
     "output_type": "execute_result"
    }
   ],
   "source": [
    "model.fit(X_train, y_train)"
   ]
  },
  {
   "cell_type": "code",
   "execution_count": 8,
   "id": "27d44dc8-b846-482a-8068-612cd3831d95",
   "metadata": {},
   "outputs": [
    {
     "name": "stdout",
     "output_type": "stream",
     "text": [
      "Tahmin edilen değer : [310169.86409223 661350.63596077 845092.48970311 543664.09014566\n",
      " 593635.4288553 ]\n",
      "Gerçek değer : 178     365000\n",
      "534     950000\n",
      "995    1100000\n",
      "79      225000\n",
      "257     770000\n",
      "Name: Fiyat, dtype: int64\n"
     ]
    }
   ],
   "source": [
    "print(\"Tahmin edilen değer : \" + str(model.predict(X_test)[15:20]))\n",
    "print(\"Gerçek değer : \" + str(y_test[15:20]))"
   ]
  },
  {
   "cell_type": "code",
   "execution_count": 9,
   "id": "e88f3197-b593-484a-932b-038f4490732e",
   "metadata": {},
   "outputs": [
    {
     "name": "stdout",
     "output_type": "stream",
     "text": [
      "Doğruluk oranı :   32.32146755381601\n"
     ]
    }
   ],
   "source": [
    "print(\"Doğruluk oranı :  \", model.score(X_test, y_test)* 100)"
   ]
  },
  {
   "cell_type": "code",
   "execution_count": 10,
   "id": "43e8e861-f00b-4452-977b-8ae63a63d0aa",
   "metadata": {},
   "outputs": [],
   "source": [
    "from sklearn.ensemble import RandomForestRegressor\n",
    "model = RandomForestRegressor(n_estimators = 1000)"
   ]
  },
  {
   "cell_type": "code",
   "execution_count": 11,
   "id": "90f644e5-9dc4-4f80-a387-d9534cc30c20",
   "metadata": {},
   "outputs": [
    {
     "data": {
      "text/plain": [
       "RandomForestRegressor(n_estimators=1000)"
      ]
     },
     "execution_count": 11,
     "metadata": {},
     "output_type": "execute_result"
    }
   ],
   "source": [
    "model.fit(X_train, y_train)\n"
   ]
  },
  {
   "cell_type": "code",
   "execution_count": 12,
   "id": "39dcd53e-7e3a-45df-aa92-e2e38f91d790",
   "metadata": {},
   "outputs": [
    {
     "name": "stdout",
     "output_type": "stream",
     "text": [
      "Doğruluk oranı : 52.442471302502206\n"
     ]
    }
   ],
   "source": [
    "print(\"Doğruluk oranı :\", model.score(X_test, y_test)*100)"
   ]
  },
  {
   "cell_type": "code",
   "execution_count": 13,
   "id": "d8e9b6a3-2fe8-4b86-99f5-a87134de5feb",
   "metadata": {},
   "outputs": [],
   "source": [
    "from sklearn.ensemble import GradientBoostingRegressor\n",
    "GBR = GradientBoostingRegressor(n_estimators=3000, learning_rate=0.05, max_depth=4, max_features='sqrt', min_samples_leaf=15, min_samples_split=10, loss='huber', random_state =42)"
   ]
  },
  {
   "cell_type": "code",
   "execution_count": 14,
   "id": "c075a169-806c-430a-b715-bad860b77ebb",
   "metadata": {},
   "outputs": [
    {
     "data": {
      "text/plain": [
       "GradientBoostingRegressor(learning_rate=0.05, loss='huber', max_depth=4,\n",
       "                          max_features='sqrt', min_samples_leaf=15,\n",
       "                          min_samples_split=10, n_estimators=3000,\n",
       "                          random_state=42)"
      ]
     },
     "execution_count": 14,
     "metadata": {},
     "output_type": "execute_result"
    }
   ],
   "source": [
    "GBR.fit(X_train, y_train)"
   ]
  },
  {
   "cell_type": "code",
   "execution_count": 15,
   "id": "9e5d9d6c-f514-4ee0-a7f5-97cea32da498",
   "metadata": {},
   "outputs": [
    {
     "name": "stdout",
     "output_type": "stream",
     "text": [
      "Doğruluk Oranı:  60.01923890546266\n"
     ]
    }
   ],
   "source": [
    "print('Doğruluk Oranı: ', GBR.score(X_test, y_test)*100)"
   ]
  },
  {
   "cell_type": "code",
   "execution_count": 20,
   "id": "c8ffa8dd-ba30-4d77-9839-cc73b9c1943e",
   "metadata": {},
   "outputs": [
    {
     "name": "stdout",
     "output_type": "stream",
     "text": [
      "Tahmin edilen değer : [381192.56447888 880991.56550118 761058.58230738 330051.68443267\n",
      " 753460.9064414 ]\n",
      "Gerçek değer : 178     365000\n",
      "534     950000\n",
      "995    1100000\n",
      "79      225000\n",
      "257     770000\n",
      "Name: Fiyat, dtype: int64\n"
     ]
    }
   ],
   "source": [
    "print(\"Tahmin edilen değer : \" + str(GBR.predict(X_test)[15:20]))\n",
    "print(\"Gerçek değer : \" + str(y_test[15:20]))"
   ]
  },
  {
   "cell_type": "code",
   "execution_count": 16,
   "id": "2c2ae507-6845-453f-84bf-20193c8332b4",
   "metadata": {},
   "outputs": [],
   "source": [
    "import lightgbm"
   ]
  },
  {
   "cell_type": "code",
   "execution_count": 17,
   "id": "01263446-9dc9-46b6-b7eb-be41a5bbff2e",
   "metadata": {},
   "outputs": [],
   "source": [
    "lightgbm = lightgbm.LGBMRegressor(objective='regression', \n",
    "                                       num_leaves=4,\n",
    "                                       learning_rate=0.01, \n",
    "                                       n_estimators=5000,\n",
    "                                       max_bin=200, \n",
    "                                       bagging_fraction=0.75,\n",
    "                                       bagging_freq=5, \n",
    "                                       bagging_seed=7,\n",
    "                                       feature_fraction=0.2,\n",
    "                                       feature_fraction_seed=7,\n",
    "                                       verbose=-1,\n",
    "                                       )"
   ]
  },
  {
   "cell_type": "code",
   "execution_count": 18,
   "id": "c86f3a0b-6732-4aa3-9dad-aee6178c122f",
   "metadata": {},
   "outputs": [
    {
     "name": "stdout",
     "output_type": "stream",
     "text": [
      "[LightGBM] [Warning] feature_fraction is set=0.2, colsample_bytree=1.0 will be ignored. Current value: feature_fraction=0.2\n",
      "[LightGBM] [Warning] bagging_fraction is set=0.75, subsample=1.0 will be ignored. Current value: bagging_fraction=0.75\n",
      "[LightGBM] [Warning] bagging_freq is set=5, subsample_freq=0 will be ignored. Current value: bagging_freq=5\n"
     ]
    },
    {
     "data": {
      "text/plain": [
       "LGBMRegressor(bagging_fraction=0.75, bagging_freq=5, bagging_seed=7,\n",
       "              feature_fraction=0.2, feature_fraction_seed=7, learning_rate=0.01,\n",
       "              max_bin=200, n_estimators=5000, num_leaves=4,\n",
       "              objective='regression', verbose=-1)"
      ]
     },
     "execution_count": 18,
     "metadata": {},
     "output_type": "execute_result"
    }
   ],
   "source": [
    "lightgbm.fit(X_train, y_train)"
   ]
  },
  {
   "cell_type": "code",
   "execution_count": 19,
   "id": "9bec43cc-819c-4992-8c25-a1491a0a8f95",
   "metadata": {},
   "outputs": [
    {
     "name": "stdout",
     "output_type": "stream",
     "text": [
      "Doğruluk Oranı:  54.903854698095614\n"
     ]
    }
   ],
   "source": [
    "print('Doğruluk Oranı: ', lightgbm.score(X_test, y_test)*100)"
   ]
  }
 ],
 "metadata": {
  "kernelspec": {
   "display_name": "Python 3",
   "language": "python",
   "name": "python3"
  },
  "language_info": {
   "codemirror_mode": {
    "name": "ipython",
    "version": 3
   },
   "file_extension": ".py",
   "mimetype": "text/x-python",
   "name": "python",
   "nbconvert_exporter": "python",
   "pygments_lexer": "ipython3",
   "version": "3.8.8"
  }
 },
 "nbformat": 4,
 "nbformat_minor": 5
}
