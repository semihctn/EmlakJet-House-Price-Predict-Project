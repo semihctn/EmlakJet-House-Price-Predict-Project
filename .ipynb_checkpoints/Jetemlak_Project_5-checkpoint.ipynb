{
 "cells": [
  {
   "cell_type": "code",
   "execution_count": 1,
   "id": "a5c49dcd",
   "metadata": {},
   "outputs": [
    {
     "name": "stdout",
     "output_type": "stream",
     "text": [
      "Requirement already satisfied: beautifulsoup4 in c:\\users\\pc\\anaconda3\\lib\\site-packages (4.9.3)\n",
      "Requirement already satisfied: soupsieve>1.2; python_version >= \"3.0\" in c:\\users\\pc\\anaconda3\\lib\\site-packages (from beautifulsoup4) (2.0.1)\n",
      "Note: you may need to restart the kernel to use updated packages.\n"
     ]
    }
   ],
   "source": [
    "pip install beautifulsoup4"
   ]
  },
  {
   "cell_type": "code",
   "execution_count": 2,
   "id": "c3dd1a1e",
   "metadata": {},
   "outputs": [
    {
     "name": "stdout",
     "output_type": "stream",
     "text": [
      "Requirement already satisfied: requests in c:\\users\\pc\\anaconda3\\lib\\site-packages (2.24.0)\n",
      "Requirement already satisfied: chardet<4,>=3.0.2 in c:\\users\\pc\\anaconda3\\lib\\site-packages (from requests) (3.0.4)\n",
      "Requirement already satisfied: certifi>=2017.4.17 in c:\\users\\pc\\anaconda3\\lib\\site-packages (from requests) (2020.6.20)\n",
      "Requirement already satisfied: urllib3!=1.25.0,!=1.25.1,<1.26,>=1.21.1 in c:\\users\\pc\\anaconda3\\lib\\site-packages (from requests) (1.25.11)\n",
      "Requirement already satisfied: idna<3,>=2.5 in c:\\users\\pc\\anaconda3\\lib\\site-packages (from requests) (2.10)\n",
      "Note: you may need to restart the kernel to use updated packages.\n"
     ]
    }
   ],
   "source": [
    "pip install requests"
   ]
  },
  {
   "cell_type": "code",
   "execution_count": 3,
   "id": "7796e1c2",
   "metadata": {},
   "outputs": [
    {
     "name": "stdout",
     "output_type": "stream",
     "text": [
      "Requirement already satisfied: lxml in c:\\users\\pc\\anaconda3\\lib\\site-packages (4.6.1)\n",
      "Note: you may need to restart the kernel to use updated packages.\n"
     ]
    }
   ],
   "source": [
    "pip install lxml"
   ]
  },
  {
   "cell_type": "markdown",
   "id": "11bd85f7",
   "metadata": {},
   "source": [
    "### Data Scrap"
   ]
  },
  {
   "cell_type": "code",
   "execution_count": 1,
   "id": "afad8b66",
   "metadata": {},
   "outputs": [],
   "source": [
    "from bs4 import BeautifulSoup\n",
    "import requests\n",
    "import pandas as pd\n",
    "import numpy as np\n",
    "\n"
   ]
  },
  {
   "cell_type": "code",
   "execution_count": 2,
   "id": "7a3ecb4b",
   "metadata": {},
   "outputs": [],
   "source": [
    "base_url=\"https://www.emlakjet.com/\""
   ]
  },
  {
   "cell_type": "code",
   "execution_count": 3,
   "id": "522d5b45",
   "metadata": {},
   "outputs": [
    {
     "data": {
      "text/plain": [
       "1200"
      ]
     },
     "execution_count": 3,
     "metadata": {},
     "output_type": "execute_result"
    }
   ],
   "source": [
    "links=[]\n",
    "for i in range(1,41):\n",
    "    yeni=\"https://www.emlakjet.com/satilik-konut/istanbul/\"+str(i)+\"/\"\n",
    "    html_text=requests.get(yeni).text\n",
    "    soup = BeautifulSoup(html_text,'lxml')\n",
    "    models = soup.find_all(\"div\", class_=\"styles_listingItem__1asTK\")\n",
    "    for model in models:\n",
    "        link=model.find(\"a\",class_=\"styles_listingItem__1asTK\").get(\"href\")\n",
    "        links.append(format(link)) \n",
    "len(links)"
   ]
  },
  {
   "cell_type": "code",
   "execution_count": 4,
   "id": "89daa989",
   "metadata": {},
   "outputs": [
    {
     "data": {
      "text/plain": [
       "1200"
      ]
     },
     "execution_count": 4,
     "metadata": {},
     "output_type": "execute_result"
    }
   ],
   "source": [
    "full_link=[]\n",
    "for l in links:\n",
    "    full_link.append(base_url+l)\n",
    "len(full_link)"
   ]
  },
  {
   "cell_type": "code",
   "execution_count": 5,
   "id": "8cee9699",
   "metadata": {
    "tags": []
   },
   "outputs": [],
   "source": [
    "informations = {\"Binanın Yaşı\": [], \"Binanın Kat Sayısı\": [], \"Banyo Sayısı\": [], \"Site İçerisinde\": [], \"Isıtma Tipi\": [], \"Kira Getirisi\": [], \"Balkon Sayısı\": [],\"Brüt Metrekare\":[],\"Oda Sayısı\":[],\"Bulunduğu Kat\":[]}\n",
    "\n",
    "pricess=[]\n",
    "basliklar=[]\n",
    "konumlar=[]\n",
    "semt=[]\n",
    "mahalle=[]\n",
    "\n",
    "for x in range(len(full_link)):\n",
    "    try:\n",
    "        flag = {\"Binanın Yaşı\": 0, \"Binanın Kat Sayısı\": 0, \"Banyo Sayısı\": 0, \"Site İçerisinde\": 0, \"Isıtma Tipi\": 0, \"Kira Getirisi\": 0, \"Balkon Sayısı\": 0,\"Brüt Metrekare\":0,\"Oda Sayısı\":0,\"Bulunduğu Kat\":0}\n",
    "        r = requests.get(full_link[x])\n",
    "\n",
    "        source = BeautifulSoup(r.content, \"lxml\")\n",
    "\n",
    "        columns = source.find_all(\"div\", attrs={\"class\": \"styles_listingInformationTable__1X9Aq\"})\n",
    "\n",
    "\n",
    "        baslik = source.find(\"h1\", attrs={\"class\": \"styles_detailTitle__qBXKm\"}).text\n",
    "        \n",
    "        tutar = source.find(\"div\", attrs={\"class\": \"styles_price__1e65F\"}).text\n",
    "        tutar = tutar[:tutar.find(\"TL\")]\n",
    "        \n",
    "        konum = source.find_all(\"a\", attrs={\"class\": \"styles_breadcrumbItem__3Htz7\"})\n",
    "        \n",
    "        for i in columns:\n",
    "            rows = i.find_all(\"div\", attrs={\"class\": \"styles_tableHalfRow__3zO2j\"})\n",
    "            for j in rows:\n",
    "                rows_i = j.find_all(\"div\", attrs={\"class\": \"styles_tableColumn__2x6nG\"})\n",
    "                description = rows_i[0].text\n",
    "                if description in list(flag.keys()):\n",
    "                    informations[description].append(rows_i[1].text)\n",
    "                    flag[description] = 1\n",
    "        \n",
    "        basliklar.append(baslik)    \n",
    "        pricess.append(tutar)\n",
    "        semt.append(konum[3].text)\n",
    "        mahalle.append(konum[4].text)\n",
    "        keys = list(flag.keys())\n",
    "        values = list(flag.values())\n",
    "\n",
    "        for i in range(len(values)):\n",
    "            if not values[i]:\n",
    "                informations[keys[i]].append(None)\n",
    "    except:\n",
    "        pass\n"
   ]
  },
  {
   "cell_type": "code",
   "execution_count": null,
   "id": "1d963fa7",
   "metadata": {},
   "outputs": [],
   "source": []
  },
  {
   "cell_type": "markdown",
   "id": "f9851f9a",
   "metadata": {},
   "source": [
    "### Converting scraped datas into DataFrames "
   ]
  },
  {
   "cell_type": "code",
   "execution_count": 30,
   "id": "e7587ab2",
   "metadata": {},
   "outputs": [],
   "source": [
    "byf=str(informations[\"Binanın Yaşı\"]).replace(\" (Yeni)\",\"\").replace(\" Ve Üzeri\",\"\").replace(\"[\",\"\").replace(\"]\",\"\").replace(\"'\",\"\").split(\",\")\n",
    "bks=str(informations[\"Binanın Kat Sayısı\"]).replace(\"None\",\"0\").replace(\"[\",\"\").replace(\"]\",\"\").replace(\"'\",\"\").split(\",\")\n",
    "bs=str(informations[\"Banyo Sayısı\"]).replace(\"None\",\"0\").replace(\"Yok\",\"0\").replace(\"+\",\"\").replace(\"[\",\"\").replace(\"]\",\"\").replace(\"'\",\"\").split(\",\")\n",
    "si=str(informations[\"Site İçerisinde\"]).replace(\"Hayır\",\"0\").replace(\"Evet\",\"1\").replace(\"[\",\"\").replace(\"]\",\"\").replace(\"'\",\"\").split(\",\")\n",
    "it=str(informations[\"Isıtma Tipi\"]).replace(\"[\",\"\").replace(\"]\",\"\").replace(\"'\",\"\").split(\",\")\n",
    "kg=str(informations[\"Kira Getirisi\"]).replace(\"[\",\"\").replace(\"]\",\"\").replace(\"'\",\"\").replace(\" TL\",\"\").split(\",\") # 0'lar none'a çevirelecek ortalama alınıp yerleştirilecek YETERSİZ VERİ!\n",
    "bals=str(informations[\"Balkon Sayısı\"]) # YETERSİZ VERİ\n",
    "bsl=basliklar\n",
    "prc=str(pricess).replace(\"arrow_downward%4\",\"\").replace(\"TL\",\"\").replace(\"'\",\"\").replace(\"[\",\"\").replace(\"]\",\"\").replace(\",\",\"\").split(\" \")\n",
    "smt=str(semt).replace(\"[\",\"\").replace(\"]\",\"\").replace(\" Satılık Daire\",\"\").replace(\"'\",\"\").replace(\" Satılık Çiftlik Evi\",\"\").replace(\" Satılık Residence\",\"\").split(\",\")\n",
    "mhl=str(mahalle).replace(\"[\",\"\").replace(\"]\",\"\").replace(\" Satılık Daire\",\"\").replace(\"'\",\"\").replace(\" Satılık Çiftlik Evi\",\"\").replace(\" Satılık Residence\",\"\").split(\",\")\n",
    "dftest=pd.DataFrame({\n",
    "    \"İlan Başlığı\":bsl,\n",
    "    \"Semt\":smt,\n",
    "    \"Mahalle\":mhl,\n",
    "    \"Binanın Yaşı\":byf,\n",
    "    \"Binanın Kat Sayısı\":bks,\n",
    "    \"Banyo Sayısı\":bs,\n",
    "    \"Site İçerisinde\":si,\n",
    "    \"Isıtma Tipi\":it,\n",
    "    \"Brüt Metrekare\":informations[\"Brüt Metrekare\"],\n",
    "    \"Oda Sayısı\":informations[\"Oda Sayısı\"],\n",
    "    \"Bulunduğu Kat\":informations[\"Bulunduğu Kat\"],\n",
    "    \"Fiyat\":prc,\n",
    "    \n",
    "})"
   ]
  },
  {
   "cell_type": "code",
   "execution_count": null,
   "id": "27e83ce5",
   "metadata": {},
   "outputs": [],
   "source": []
  },
  {
   "cell_type": "code",
   "execution_count": 7,
   "id": "6168d8d9",
   "metadata": {},
   "outputs": [
    {
     "data": {
      "text/html": [
       "<div>\n",
       "<style scoped>\n",
       "    .dataframe tbody tr th:only-of-type {\n",
       "        vertical-align: middle;\n",
       "    }\n",
       "\n",
       "    .dataframe tbody tr th {\n",
       "        vertical-align: top;\n",
       "    }\n",
       "\n",
       "    .dataframe thead th {\n",
       "        text-align: right;\n",
       "    }\n",
       "</style>\n",
       "<table border=\"1\" class=\"dataframe\">\n",
       "  <thead>\n",
       "    <tr style=\"text-align: right;\">\n",
       "      <th></th>\n",
       "      <th>İlan Başlığı</th>\n",
       "      <th>Semt</th>\n",
       "      <th>Mahalle</th>\n",
       "      <th>Binanın Yaşı</th>\n",
       "      <th>Binanın Kat Sayısı</th>\n",
       "      <th>Banyo Sayısı</th>\n",
       "      <th>Site İçerisinde</th>\n",
       "      <th>Isıtma Tipi</th>\n",
       "      <th>Brüt Metrekare</th>\n",
       "      <th>Oda Sayısı</th>\n",
       "      <th>Bulunduğu Kat</th>\n",
       "      <th>Fiyat</th>\n",
       "    </tr>\n",
       "  </thead>\n",
       "  <tbody>\n",
       "    <tr>\n",
       "      <th>0</th>\n",
       "      <td>YENİBOSNADA ÇAKMAK DURAĞINDA SATILIK 100 m2 2...</td>\n",
       "      <td>Bahçelievler</td>\n",
       "      <td>Zafer Mahallesi</td>\n",
       "      <td>20</td>\n",
       "      <td>4</td>\n",
       "      <td>1</td>\n",
       "      <td>0</td>\n",
       "      <td>Kombi Doğalgaz</td>\n",
       "      <td>100 m2</td>\n",
       "      <td>2+1</td>\n",
       "      <td>4. Kat</td>\n",
       "      <td>325000</td>\n",
       "    </tr>\n",
       "    <tr>\n",
       "      <th>1</th>\n",
       "      <td>Ağaoğlu Eltes Gold Residence 20.kat Bahçesi Ya...</td>\n",
       "      <td>Ümraniye</td>\n",
       "      <td>Madenler Mahallesi</td>\n",
       "      <td>11-20</td>\n",
       "      <td>27</td>\n",
       "      <td>2</td>\n",
       "      <td>0</td>\n",
       "      <td>Kombi Doğalgaz</td>\n",
       "      <td>164 m2</td>\n",
       "      <td>3+1</td>\n",
       "      <td>20. Kat</td>\n",
       "      <td>1450000</td>\n",
       "    </tr>\n",
       "    <tr>\n",
       "      <th>2</th>\n",
       "      <td>Çekmeköy – Üsküdar Metro hattının Necip Fazıl ...</td>\n",
       "      <td>Ümraniye</td>\n",
       "      <td>Necip Fazıl Mahallesi</td>\n",
       "      <td>11-20</td>\n",
       "      <td>8</td>\n",
       "      <td>2</td>\n",
       "      <td>0</td>\n",
       "      <td>Kombi Doğalgaz</td>\n",
       "      <td>135 m2</td>\n",
       "      <td>3+1</td>\n",
       "      <td>1. Kat</td>\n",
       "      <td>700000</td>\n",
       "    </tr>\n",
       "    <tr>\n",
       "      <th>3</th>\n",
       "      <td>MARİN İNŞAATTAN BEYLİKDÜZÜ YAKUPLUDA 3+1 MERK...</td>\n",
       "      <td>Beylikdüzü</td>\n",
       "      <td>Yakuplu Mahallesi</td>\n",
       "      <td>2</td>\n",
       "      <td>5</td>\n",
       "      <td>2</td>\n",
       "      <td>0</td>\n",
       "      <td>Kombi Doğalgaz</td>\n",
       "      <td>130 m2</td>\n",
       "      <td>3+1</td>\n",
       "      <td>4. Kat</td>\n",
       "      <td>300000</td>\n",
       "    </tr>\n",
       "    <tr>\n",
       "      <th>4</th>\n",
       "      <td>EMSALLERİNİN ÇOK ÇOK ÜSTÜNDE LÜX 3+1DAİREMİZ E...</td>\n",
       "      <td>Beylikdüzü</td>\n",
       "      <td>Cumhuriyet Mahallesi</td>\n",
       "      <td>1</td>\n",
       "      <td>8</td>\n",
       "      <td>1</td>\n",
       "      <td>0</td>\n",
       "      <td>Kombi Doğalgaz</td>\n",
       "      <td>130 m2</td>\n",
       "      <td>3+1</td>\n",
       "      <td>3. Kat</td>\n",
       "      <td>327000</td>\n",
       "    </tr>\n",
       "    <tr>\n",
       "      <th>...</th>\n",
       "      <td>...</td>\n",
       "      <td>...</td>\n",
       "      <td>...</td>\n",
       "      <td>...</td>\n",
       "      <td>...</td>\n",
       "      <td>...</td>\n",
       "      <td>...</td>\n",
       "      <td>...</td>\n",
       "      <td>...</td>\n",
       "      <td>...</td>\n",
       "      <td>...</td>\n",
       "      <td>...</td>\n",
       "    </tr>\n",
       "    <tr>\n",
       "      <th>95</th>\n",
       "      <td>BLUE LAKE 2+1 C BLOK 10. KAT FULL GÖL MANZARAL...</td>\n",
       "      <td>Küçükçekmece</td>\n",
       "      <td>Fatih Mahallesi</td>\n",
       "      <td>2</td>\n",
       "      <td>15</td>\n",
       "      <td>2</td>\n",
       "      <td>0</td>\n",
       "      <td>Merkezi (Pay Ölçer)</td>\n",
       "      <td>125 m2</td>\n",
       "      <td>2+1</td>\n",
       "      <td>10. Kat</td>\n",
       "      <td>3250000</td>\n",
       "    </tr>\n",
       "    <tr>\n",
       "      <th>96</th>\n",
       "      <td>MARİN İNŞAATTAN KREDİYE TAKASA UYGUN BU DAİRE ...</td>\n",
       "      <td>Esenyurt</td>\n",
       "      <td>Mehmet Akif Ersoy Mahallesi</td>\n",
       "      <td>2</td>\n",
       "      <td>5</td>\n",
       "      <td>1</td>\n",
       "      <td>0</td>\n",
       "      <td>Kombi Doğalgaz</td>\n",
       "      <td>85 m2</td>\n",
       "      <td>1+1</td>\n",
       "      <td>1. Kat</td>\n",
       "      <td>154000</td>\n",
       "    </tr>\n",
       "    <tr>\n",
       "      <th>97</th>\n",
       "      <td>GAZİOSMANPAŞA KAZIMKARABEKİR MAH SATILIK 2+1 ...</td>\n",
       "      <td>Gaziosmanpaşa</td>\n",
       "      <td>Kazım Karabekir Mahallesi</td>\n",
       "      <td>11-20</td>\n",
       "      <td>3</td>\n",
       "      <td>1</td>\n",
       "      <td>0</td>\n",
       "      <td>Kombi Doğalgaz</td>\n",
       "      <td>105 m2</td>\n",
       "      <td>2+1</td>\n",
       "      <td>Düz Giriş</td>\n",
       "      <td>300000</td>\n",
       "    </tr>\n",
       "    <tr>\n",
       "      <th>98</th>\n",
       "      <td>E.N.F EMLAKTAN İÇERENKÖY MERKEZDE SATILIK DAİRE</td>\n",
       "      <td>Ataşehir</td>\n",
       "      <td>İçerenköy Mahallesi</td>\n",
       "      <td>20</td>\n",
       "      <td>7</td>\n",
       "      <td>1</td>\n",
       "      <td>0</td>\n",
       "      <td>Kombi Doğalgaz</td>\n",
       "      <td>135 m2</td>\n",
       "      <td>3+1</td>\n",
       "      <td>6. Kat</td>\n",
       "      <td>760000</td>\n",
       "    </tr>\n",
       "    <tr>\n",
       "      <th>99</th>\n",
       "      <td>Koç Emlak.tan Satılık daire</td>\n",
       "      <td>Kadıköy</td>\n",
       "      <td>Rasimpaşa Mahallesi</td>\n",
       "      <td>20</td>\n",
       "      <td>4</td>\n",
       "      <td>1</td>\n",
       "      <td>0</td>\n",
       "      <td>Kombi Doğalgaz</td>\n",
       "      <td>70 m2</td>\n",
       "      <td>2+1</td>\n",
       "      <td>1. Kat</td>\n",
       "      <td>545000</td>\n",
       "    </tr>\n",
       "  </tbody>\n",
       "</table>\n",
       "<p>100 rows × 12 columns</p>\n",
       "</div>"
      ],
      "text/plain": [
       "                                         İlan Başlığı            Semt  \\\n",
       "0    YENİBOSNADA ÇAKMAK DURAĞINDA SATILIK 100 m2 2...    Bahçelievler   \n",
       "1   Ağaoğlu Eltes Gold Residence 20.kat Bahçesi Ya...        Ümraniye   \n",
       "2   Çekmeköy – Üsküdar Metro hattının Necip Fazıl ...        Ümraniye   \n",
       "3    MARİN İNŞAATTAN BEYLİKDÜZÜ YAKUPLUDA 3+1 MERK...      Beylikdüzü   \n",
       "4   EMSALLERİNİN ÇOK ÇOK ÜSTÜNDE LÜX 3+1DAİREMİZ E...      Beylikdüzü   \n",
       "..                                                ...             ...   \n",
       "95  BLUE LAKE 2+1 C BLOK 10. KAT FULL GÖL MANZARAL...    Küçükçekmece   \n",
       "96  MARİN İNŞAATTAN KREDİYE TAKASA UYGUN BU DAİRE ...        Esenyurt   \n",
       "97   GAZİOSMANPAŞA KAZIMKARABEKİR MAH SATILIK 2+1 ...   Gaziosmanpaşa   \n",
       "98   E.N.F EMLAKTAN İÇERENKÖY MERKEZDE SATILIK DAİRE         Ataşehir   \n",
       "99                        Koç Emlak.tan Satılık daire         Kadıköy   \n",
       "\n",
       "                         Mahalle Binanın Yaşı Binanın Kat Sayısı Banyo Sayısı  \\\n",
       "0                Zafer Mahallesi           20                  4            1   \n",
       "1             Madenler Mahallesi        11-20                 27            2   \n",
       "2          Necip Fazıl Mahallesi        11-20                  8            2   \n",
       "3              Yakuplu Mahallesi            2                  5            2   \n",
       "4           Cumhuriyet Mahallesi            1                  8            1   \n",
       "..                           ...          ...                ...          ...   \n",
       "95               Fatih Mahallesi            2                 15            2   \n",
       "96   Mehmet Akif Ersoy Mahallesi            2                  5            1   \n",
       "97     Kazım Karabekir Mahallesi        11-20                  3            1   \n",
       "98           İçerenköy Mahallesi           20                  7            1   \n",
       "99           Rasimpaşa Mahallesi           20                  4            1   \n",
       "\n",
       "   Site İçerisinde           Isıtma Tipi Brüt Metrekare Oda Sayısı  \\\n",
       "0                0        Kombi Doğalgaz         100 m2        2+1   \n",
       "1                0        Kombi Doğalgaz         164 m2        3+1   \n",
       "2                0        Kombi Doğalgaz         135 m2        3+1   \n",
       "3                0        Kombi Doğalgaz         130 m2        3+1   \n",
       "4                0        Kombi Doğalgaz         130 m2        3+1   \n",
       "..             ...                   ...            ...        ...   \n",
       "95               0   Merkezi (Pay Ölçer)         125 m2        2+1   \n",
       "96               0        Kombi Doğalgaz          85 m2        1+1   \n",
       "97               0        Kombi Doğalgaz         105 m2        2+1   \n",
       "98               0        Kombi Doğalgaz         135 m2        3+1   \n",
       "99               0        Kombi Doğalgaz          70 m2        2+1   \n",
       "\n",
       "   Bulunduğu Kat    Fiyat  \n",
       "0         4. Kat   325000  \n",
       "1        20. Kat  1450000  \n",
       "2         1. Kat   700000  \n",
       "3         4. Kat   300000  \n",
       "4         3. Kat   327000  \n",
       "..           ...      ...  \n",
       "95       10. Kat  3250000  \n",
       "96        1. Kat   154000  \n",
       "97     Düz Giriş   300000  \n",
       "98        6. Kat   760000  \n",
       "99        1. Kat   545000  \n",
       "\n",
       "[100 rows x 12 columns]"
      ]
     },
     "execution_count": 7,
     "metadata": {},
     "output_type": "execute_result"
    }
   ],
   "source": [
    "dftest.head(100)"
   ]
  },
  {
   "cell_type": "code",
   "execution_count": null,
   "id": "05cfd19d",
   "metadata": {},
   "outputs": [],
   "source": []
  },
  {
   "cell_type": "code",
   "execution_count": 3,
   "id": "ef515fc6",
   "metadata": {},
   "outputs": [
    {
     "ename": "NameError",
     "evalue": "name 'dftest' is not defined",
     "output_type": "error",
     "traceback": [
      "\u001b[1;31m---------------------------------------------------------------------------\u001b[0m",
      "\u001b[1;31mNameError\u001b[0m                                 Traceback (most recent call last)",
      "\u001b[1;32m<ipython-input-3-c9095d1a4b86>\u001b[0m in \u001b[0;36m<module>\u001b[1;34m\u001b[0m\n\u001b[1;32m----> 1\u001b[1;33m \u001b[0mdftest\u001b[0m\u001b[1;33m.\u001b[0m\u001b[0misna\u001b[0m\u001b[1;33m(\u001b[0m\u001b[1;33m)\u001b[0m\u001b[1;33m.\u001b[0m\u001b[0msum\u001b[0m\u001b[1;33m(\u001b[0m\u001b[1;33m)\u001b[0m\u001b[1;33m\u001b[0m\u001b[1;33m\u001b[0m\u001b[0m\n\u001b[0m",
      "\u001b[1;31mNameError\u001b[0m: name 'dftest' is not defined"
     ]
    }
   ],
   "source": [
    "dftest.isna().sum()"
   ]
  },
  {
   "cell_type": "code",
   "execution_count": null,
   "id": "6ce0643d",
   "metadata": {},
   "outputs": [],
   "source": []
  },
  {
   "cell_type": "code",
   "execution_count": 2,
   "id": "1bc32d8e",
   "metadata": {},
   "outputs": [
    {
     "ename": "NameError",
     "evalue": "name 'dftest' is not defined",
     "output_type": "error",
     "traceback": [
      "\u001b[1;31m---------------------------------------------------------------------------\u001b[0m",
      "\u001b[1;31mNameError\u001b[0m                                 Traceback (most recent call last)",
      "\u001b[1;32m<ipython-input-2-740d624f3494>\u001b[0m in \u001b[0;36m<module>\u001b[1;34m\u001b[0m\n\u001b[1;32m----> 1\u001b[1;33m \u001b[0mdftest\u001b[0m\u001b[1;33m.\u001b[0m\u001b[0mtail\u001b[0m\u001b[1;33m\u001b[0m\u001b[1;33m\u001b[0m\u001b[0m\n\u001b[0m",
      "\u001b[1;31mNameError\u001b[0m: name 'dftest' is not defined"
     ]
    }
   ],
   "source": [
    "dftest.tail"
   ]
  },
  {
   "cell_type": "code",
   "execution_count": 10,
   "id": "acc0e003",
   "metadata": {},
   "outputs": [
    {
     "data": {
      "text/plain": [
       "İlan Başlığı          object\n",
       "Semt                  object\n",
       "Mahalle               object\n",
       "Binanın Yaşı          object\n",
       "Binanın Kat Sayısı    object\n",
       "Banyo Sayısı          object\n",
       "Site İçerisinde       object\n",
       "Isıtma Tipi           object\n",
       "Brüt Metrekare        object\n",
       "Oda Sayısı            object\n",
       "Bulunduğu Kat         object\n",
       "Fiyat                 object\n",
       "dtype: object"
      ]
     },
     "execution_count": 10,
     "metadata": {},
     "output_type": "execute_result"
    }
   ],
   "source": [
    "dftest.dtypes"
   ]
  },
  {
   "cell_type": "code",
   "execution_count": 32,
   "id": "de9f702f",
   "metadata": {},
   "outputs": [
    {
     "data": {
      "text/plain": [
       "İlan Başlığı          object\n",
       "Semt                  object\n",
       "Mahalle               object\n",
       "Binanın Yaşı          object\n",
       "Binanın Kat Sayısı     int32\n",
       "Banyo Sayısı           int32\n",
       "Site İçerisinde       object\n",
       "Isıtma Tipi           object\n",
       "Brüt Metrekare        object\n",
       "Oda Sayısı            object\n",
       "Bulunduğu Kat         object\n",
       "Fiyat                  int32\n",
       "dtype: object"
      ]
     },
     "execution_count": 32,
     "metadata": {},
     "output_type": "execute_result"
    }
   ],
   "source": [
    "dftest[\"Binanın Kat Sayısı\"] = dftest['Binanın Kat Sayısı'].astype('int')\n",
    "dftest[\"Banyo Sayısı\"] = dftest['Banyo Sayısı'].astype('int')\n",
    "dftest[\"Fiyat\"] = dftest['Fiyat'].astype('int')\n",
    "\n",
    "dftest.dtypes"
   ]
  },
  {
   "cell_type": "code",
   "execution_count": 11,
   "id": "898f43bd",
   "metadata": {},
   "outputs": [],
   "source": [
    "dftest.to_excel(\"dftest.xlsx\")"
   ]
  },
  {
   "cell_type": "code",
   "execution_count": 38,
   "id": "7a513160",
   "metadata": {},
   "outputs": [
    {
     "data": {
      "text/plain": [
       " Esenyurt                       126\n",
       " Bahçelievler                   105\n",
       " Beylikdüzü                      85\n",
       " Sancaktepe                      74\n",
       " Kadıköy                         66\n",
       " Küçükçekmece                    64\n",
       " Çekmeköy                        54\n",
       " Pendik                          41\n",
       " Avcılar                         40\n",
       " Başakşehir                      38\n",
       " Maltepe                         35\n",
       " Kartal                          35\n",
       " Sultangazi                      35\n",
       " Eyüpsultan                      30\n",
       " Ümraniye                        26\n",
       " Şişli                           24\n",
       " Kağıthane                       23\n",
       " Sarıyer                         21\n",
       " Bağcılar                        20\n",
       " Beşiktaş                        18\n",
       " Fatih                           18\n",
       " Arnavutköy                      18\n",
       " Esenler                         17\n",
       " Tuzla                           17\n",
       " Bakırköy                        17\n",
       " Gaziosmanpaşa                   16\n",
       " Ataşehir                        16\n",
       " Üsküdar                         13\n",
       " Sultanbeyli                     12\n",
       " Güngören                        12\n",
       " Beyoğlu                         10\n",
       " Büyükçekmece                     9\n",
       " Sarıyer Satılık Villa            8\n",
       " Bayrampaşa                       7\n",
       " Başakşehir Satılık Villa         6\n",
       " Beylikdüzü Satılık Villa         5\n",
       " Büyükçekmece Satılık Villa       5\n",
       " Zeytinburnu                      4\n",
       " Çatalca                          3\n",
       " Esenyurt SatÄ±lÄ±k Daire         2\n",
       " Silivri                          2\n",
       "Bahçelievler                      1\n",
       " Gaziosmanpaşa Satılık Bina       1\n",
       " Pendik Satılık Villa             1\n",
       " Avcılar Satılık Villa            1\n",
       " Silivri Satılık Villa            1\n",
       " Üsküdar Satılık Villa            1\n",
       " Sarıyer Satılık Müstakil Ev      1\n",
       " Sultangazi Satılık Bina          1\n",
       " Şile Satılık Villa               1\n",
       " Üsküdar Satılık Müstakil Ev      1\n",
       " Fatih Satılık Bina               1\n",
       " Beykoz Satılık Villa             1\n",
       " Pendik Satılık Bina              1\n",
       " Sultanbeyli Satılık Bina         1\n",
       "Name: Semt, dtype: int64"
      ]
     },
     "execution_count": 38,
     "metadata": {},
     "output_type": "execute_result"
    }
   ],
   "source": [
    "dftest.Semt.value_counts()"
   ]
  },
  {
   "cell_type": "code",
   "execution_count": 41,
   "id": "46232814",
   "metadata": {},
   "outputs": [],
   "source": [
    "dftest.to_csv(\"dftest.csv\")"
   ]
  },
  {
   "cell_type": "code",
   "execution_count": null,
   "id": "6ebc20be",
   "metadata": {},
   "outputs": [],
   "source": []
  }
 ],
 "metadata": {
  "kernelspec": {
   "display_name": "Python 3",
   "language": "python",
   "name": "python3"
  },
  "language_info": {
   "codemirror_mode": {
    "name": "ipython",
    "version": 3
   },
   "file_extension": ".py",
   "mimetype": "text/x-python",
   "name": "python",
   "nbconvert_exporter": "python",
   "pygments_lexer": "ipython3",
   "version": "3.8.8"
  }
 },
 "nbformat": 4,
 "nbformat_minor": 5
}
