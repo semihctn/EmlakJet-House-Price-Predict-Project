{
 "cells": [
  {
   "cell_type": "code",
   "execution_count": 1,
   "id": "204c84e6-bcc0-4ef2-969c-9ea3330a0668",
   "metadata": {},
   "outputs": [
    {
     "name": "stdout",
     "output_type": "stream",
     "text": [
      "Requirement already satisfied: beautifulsoup4 in c:\\users\\asus\\anaconda3\\lib\\site-packages (4.8.2)\n",
      "Requirement already satisfied: soupsieve>=1.2 in c:\\users\\asus\\anaconda3\\lib\\site-packages (from beautifulsoup4) (1.9.5)\n",
      "Note: you may need to restart the kernel to use updated packages.\n"
     ]
    }
   ],
   "source": [
    "pip install beautifulsoup4"
   ]
  },
  {
   "cell_type": "code",
   "execution_count": 2,
   "id": "dfbd491c-434a-4957-97cc-d15892dd8c44",
   "metadata": {},
   "outputs": [
    {
     "name": "stdout",
     "output_type": "stream",
     "text": [
      "Requirement already satisfied: requests in c:\\users\\asus\\anaconda3\\lib\\site-packages (2.22.0)\n",
      "Requirement already satisfied: urllib3!=1.25.0,!=1.25.1,<1.26,>=1.21.1 in c:\\users\\asus\\anaconda3\\lib\\site-packages (from requests) (1.25.11)\n",
      "Requirement already satisfied: chardet<3.1.0,>=3.0.2 in c:\\users\\asus\\anaconda3\\lib\\site-packages (from requests) (3.0.4)\n",
      "Requirement already satisfied: idna<2.9,>=2.5 in c:\\users\\asus\\anaconda3\\lib\\site-packages (from requests) (2.8)\n",
      "Requirement already satisfied: certifi>=2017.4.17 in c:\\users\\asus\\anaconda3\\lib\\site-packages (from requests) (2020.12.5)\n",
      "Note: you may need to restart the kernel to use updated packages.\n"
     ]
    }
   ],
   "source": [
    "pip install requests"
   ]
  },
  {
   "cell_type": "code",
   "execution_count": 3,
   "id": "c8339cc2-f920-4fa7-92ab-384e97626d51",
   "metadata": {},
   "outputs": [
    {
     "name": "stdout",
     "output_type": "stream",
     "text": [
      "Requirement already satisfied: lxml in c:\\users\\asus\\anaconda3\\lib\\site-packages (4.6.3)\n",
      "Note: you may need to restart the kernel to use updated packages.\n"
     ]
    }
   ],
   "source": [
    "pip install lxml"
   ]
  },
  {
   "cell_type": "markdown",
   "id": "a4e5d6e9-b638-4c4c-a246-0ff68964df4f",
   "metadata": {},
   "source": [
    "### Data Scrap"
   ]
  },
  {
   "cell_type": "code",
   "execution_count": 2,
   "id": "d2773fa6-2497-4afa-9869-697ae21a0feb",
   "metadata": {},
   "outputs": [],
   "source": [
    "from bs4 import BeautifulSoup\n",
    "import requests\n",
    "import pandas as pd\n",
    "import numpy as np\n",
    "\n"
   ]
  },
  {
   "cell_type": "code",
   "execution_count": 5,
   "id": "f636a128-4733-4a5a-bb57-c10656e6972c",
   "metadata": {},
   "outputs": [],
   "source": [
    "base_url=\"https://www.emlakjet.com/\""
   ]
  },
  {
   "cell_type": "code",
   "execution_count": 6,
   "id": "7a9d9638-9467-4d9b-aa61-a5d46b5edbc8",
   "metadata": {},
   "outputs": [
    {
     "data": {
      "text/plain": [
       "1470"
      ]
     },
     "execution_count": 6,
     "metadata": {},
     "output_type": "execute_result"
    }
   ],
   "source": [
    "links=[]\n",
    "for i in range(1,50):\n",
    "    yeni=\"https://www.emlakjet.com/satilik-konut/istanbul/\"+str(i)+\"/\"\n",
    "    html_text=requests.get(yeni).text\n",
    "    soup = BeautifulSoup(html_text,'lxml')\n",
    "    models = soup.find_all(\"div\", class_=\"styles_listingItem__1asTK\")\n",
    "    for model in models:\n",
    "        link=model.find(\"a\",class_=\"styles_listingItem__1asTK\").get(\"href\")\n",
    "        links.append(format(link)) \n",
    "len(links)"
   ]
  },
  {
   "cell_type": "code",
   "execution_count": 7,
   "id": "6c3ae409-083b-4574-bb17-d323a867bf2d",
   "metadata": {},
   "outputs": [
    {
     "data": {
      "text/plain": [
       "1470"
      ]
     },
     "execution_count": 7,
     "metadata": {},
     "output_type": "execute_result"
    }
   ],
   "source": [
    "full_link=[]\n",
    "for l in links:\n",
    "    full_link.append(base_url+l)\n",
    "len(full_link)"
   ]
  },
  {
   "cell_type": "code",
   "execution_count": 8,
   "id": "9d427b4d-6a37-4ccf-947e-d3453c37a1e8",
   "metadata": {
    "tags": []
   },
   "outputs": [],
   "source": [
    "informations = {\"Binanın Yaşı\": [], \"Binanın Kat Sayısı\": [], \"Banyo Sayısı\": [], \"Site İçerisinde\": [], \"Isıtma Tipi\": [], \"Kira Getirisi\": [], \"Balkon Sayısı\": [],\"Brüt Metrekare\":[],\"Oda Sayısı\":[],\"Bulunduğu Kat\":[],\"Türü\":[],\"WC Sayısı\":[]}\n",
    "\n",
    "pricess=[]\n",
    "basliklar=[]\n",
    "konumlar=[]\n",
    "semt=[]\n",
    "mahalle=[]\n",
    "\n",
    "for x in range(len(full_link)):\n",
    "    try:\n",
    "        flag = {\"Binanın Yaşı\": 0, \"Binanın Kat Sayısı\": 0, \"Banyo Sayısı\": 0, \"Site İçerisinde\": 0, \"Isıtma Tipi\": 0, \"Kira Getirisi\": 0, \"Balkon Sayısı\": 0,\"Brüt Metrekare\":0,\"Oda Sayısı\":0,\"Bulunduğu Kat\":0,\"Türü\":0,\"WC Sayısı\":0}\n",
    "        r = requests.get(full_link[x])\n",
    "\n",
    "        source = BeautifulSoup(r.content, \"lxml\")\n",
    "\n",
    "        columns = source.find_all(\"div\", attrs={\"class\": \"styles_listingInformationTable__1X9Aq\"})\n",
    "\n",
    "\n",
    "        baslik = source.find(\"h1\", attrs={\"class\": \"styles_detailTitle__qBXKm\"}).text\n",
    "        \n",
    "        tutar = source.find(\"div\", attrs={\"class\": \"styles_price__1e65F\"}).text\n",
    "        tutar = tutar[:tutar.find(\"TL\")]\n",
    "        \n",
    "        konum = source.find_all(\"a\", attrs={\"class\": \"styles_breadcrumbItem__3Htz7\"})\n",
    "        \n",
    "        for i in columns:\n",
    "            rows = i.find_all(\"div\", attrs={\"class\": \"styles_tableHalfRow__3zO2j\"})\n",
    "            for j in rows:\n",
    "                rows_i = j.find_all(\"div\", attrs={\"class\": \"styles_tableColumn__2x6nG\"})\n",
    "                description = rows_i[0].text\n",
    "                if description in list(flag.keys()):\n",
    "                    informations[description].append(rows_i[1].text)\n",
    "                    flag[description] = 1\n",
    "        \n",
    "        basliklar.append(baslik)    \n",
    "        pricess.append(tutar)\n",
    "        semt.append(konum[3].text)\n",
    "        mahalle.append(konum[4].text)\n",
    "        keys = list(flag.keys())\n",
    "        values = list(flag.values())\n",
    "\n",
    "        for i in range(len(values)):\n",
    "            if not values[i]:\n",
    "                informations[keys[i]].append(None)\n",
    "    except:\n",
    "        pass\n"
   ]
  },
  {
   "cell_type": "code",
   "execution_count": 48,
   "id": "fb6f8a3d-a337-46ff-9ff8-b331ae0c53dd",
   "metadata": {},
   "outputs": [],
   "source": [
    "byf=str(informations[\"Binanın Yaşı\"]).replace(\" (Yeni)\",\"\").replace(\" Ve Üzeri\",\"\").replace(\"[\",\"\").replace(\"]\",\"\").replace(\"'\",\"\").replace(\" \",\"\").split(\",\")\n",
    "bks=str(informations[\"Binanın Kat Sayısı\"]).replace(\"[\",\"\").replace(\"]\",\"\").replace(\"'\",\"\").lstrip().replace(\" \",\"\").split(\",\")\n",
    "bs=str(informations[\"Banyo Sayısı\"]).replace(\"Yok\",\"0\").replace(\"+\",\"\").replace(\"[\",\"\").replace(\"]\",\"\").replace(\"'\",\"\").rstrip().replace(\" \",\"\").split(\",\")\n",
    "si=str(informations[\"Site İçerisinde\"]).replace(\"Hayır\",\"0\").replace(\"Evet\",\"1\").replace(\"[\",\"\").replace(\"]\",\"\").replace(\"'\",\"\").replace(\" \",\"\").lstrip().split(\",\")\n",
    "it=str(informations[\"Isıtma Tipi\"]).replace(\"[\",\"\").replace(\"]\",\"\").replace(\"'\",\"\").replace(\" \",\"\").split(\",\")\n",
    "mk=str(informations[\"Brüt Metrekare\"]).replace(\"[\",\"\").replace(\"]\",\"\").replace(\"'\",\"\").replace(\" m2\",\"\").replace(\" \",\"\").replace(\".\",\"\").split(\",\")\n",
    "kg=str(informations[\"Kira Getirisi\"]).replace(\"[\",\"\").replace(\"]\",\"\").replace(\"'\",\"\").replace(\" TL\",\"\").replace(\" \",\"\").split(\",\") # 0'lar none'a çevirelecek ortalama alınıp yerleştirilecek YETERSİZ VERİ!\n",
    "bals=str(informations[\"Balkon Sayısı\"]) # YETERSİZ VERİ\n",
    "bsl=basliklar\n",
    "prc=str(pricess).replace(\"arrow_downward%4\",\"\").replace(\"TL\",\"\").replace(\"'\",\"\").replace(\"[\",\"\").replace(\"]\",\"\").replace(\",\",\"\").split(\" \")\n",
    "smt=str(semt).replace(\"[\",\"\").replace(\"]\",\"\").replace(\" Satılık Daire\",\"\").replace(\" '\",\"\").replace(\"'\",\"\").replace(\" Satılık Çiftlik Evi\",\"\").replace(\" Satılık Residence\",\"\").replace(\" Satılık Villa\",\"\").replace(\" Satılık Müstakil Ev\",\"\").split(\",\")\n",
    "mhl=str(mahalle).replace(\"[\",\"\").replace(\"]\",\"\").replace(\" Satılık Daire\",\"\").replace(\"'\",\"\").replace(\" Satılık Çiftlik Evi\",\"\").replace(\" Satılık Residence\",\"\").replace(\" Satılık Villa\",\"\").replace(\" Satılık Müstakil Ev\",\"\").split(\",\")\n",
    "tur=str(informations[\"Türü\"]).replace(\"[\",\"\").replace(\"]\",\"\").replace(\" '\",\"\").replace(\"'\",\"\").split(\",\")\n",
    "wc=str(informations[\"WC Sayısı\"]).replace(\"[\",\"\").replace(\"]\",\"\").replace(\" '\",\"\").replace(\"'\",\"\").replace(\"Yok\",\"0\").replace(\" None\",\"1\").split(\",\")\n"
   ]
  },
  {
   "cell_type": "markdown",
   "id": "b13207a2-03b1-407a-83d4-7d1b8aa5625f",
   "metadata": {},
   "source": [
    "### Converting scraped datas into DataFrames "
   ]
  },
  {
   "cell_type": "code",
   "execution_count": 49,
   "id": "d013d052-90f9-42af-b581-159e892c9fa6",
   "metadata": {},
   "outputs": [],
   "source": [
    "dftest=pd.DataFrame({\n",
    "    \"İlan Başlığı\":bsl,\n",
    "    \"Semt\":smt,\n",
    "    \"Mahalle\":mhl,\n",
    "    \"Tür\":tur,\n",
    "    \"Oda Sayısı\":informations[\"Oda Sayısı\"],\n",
    "    \"Binanın Yaşı\":byf,\n",
    "    \"Binanın Kat Sayısı\":bks,\n",
    "    \"Bulunduğu Kat\":informations[\"Bulunduğu Kat\"],\n",
    "    \"Brüt Metrekare\":mk,\n",
    "    \"Banyo Sayısı\":bs,\n",
    "    \"Wc Sayısı\":wc,\n",
    "    \"Site İçerisinde\":si,\n",
    "    \"Isıtma Tipi\":it,\n",
    "    \"Fiyat\":prc,\n",
    "    \n",
    "})"
   ]
  },
  {
   "cell_type": "code",
   "execution_count": 1,
   "id": "66beef96-5e56-4436-b516-d88811ab7bad",
   "metadata": {},
   "outputs": [
    {
     "ename": "NameError",
     "evalue": "name 'dftest' is not defined",
     "output_type": "error",
     "traceback": [
      "\u001b[1;31m---------------------------------------------------------------------------\u001b[0m",
      "\u001b[1;31mNameError\u001b[0m                                 Traceback (most recent call last)",
      "\u001b[1;32m<ipython-input-1-fa2ce54091f0>\u001b[0m in \u001b[0;36m<module>\u001b[1;34m\u001b[0m\n\u001b[1;32m----> 1\u001b[1;33m \u001b[0mdftest\u001b[0m\u001b[1;33m.\u001b[0m\u001b[0mhead\u001b[0m\u001b[1;33m(\u001b[0m\u001b[1;36m10\u001b[0m\u001b[1;33m)\u001b[0m\u001b[1;33m\u001b[0m\u001b[1;33m\u001b[0m\u001b[0m\n\u001b[0m",
      "\u001b[1;31mNameError\u001b[0m: name 'dftest' is not defined"
     ]
    }
   ],
   "source": [
    "dftest.head(10)"
   ]
  },
  {
   "cell_type": "code",
   "execution_count": 50,
   "id": "415c8f06-0868-4a8c-b00a-1e6a450310c8",
   "metadata": {},
   "outputs": [
    {
     "data": {
      "text/plain": [
       "1    1210\n",
       "2     219\n",
       "3      18\n",
       "0      16\n",
       "4       6\n",
       "5       1\n",
       "Name: Wc Sayısı, dtype: int64"
      ]
     },
     "execution_count": 50,
     "metadata": {},
     "output_type": "execute_result"
    }
   ],
   "source": [
    "dftest[\"Wc Sayısı\"].value_counts()"
   ]
  },
  {
   "cell_type": "code",
   "execution_count": 12,
   "id": "352b641b-499f-44a7-b008-bbff4fe03805",
   "metadata": {},
   "outputs": [
    {
     "data": {
      "text/plain": [
       "Esenyurt                        186\n",
       "Beylikdüzü                      131\n",
       "Bahçelievler                    118\n",
       "Küçükçekmece                     86\n",
       "Sancaktepe                       66\n",
       "Kadıköy                          64\n",
       "Pendik                           56\n",
       "Çekmeköy                         53\n",
       "Ümraniye                         47\n",
       "Başakşehir                       46\n",
       "Avcılar                          44\n",
       "Maltepe                          41\n",
       "Eyüpsultan                       40\n",
       "Sultangazi                       40\n",
       "Kartal                           37\n",
       "Kağıthane                        33\n",
       "Fatih                            32\n",
       "Üsküdar                          32\n",
       "Gaziosmanpaşa                    31\n",
       "Şişli                            28\n",
       "Büyükçekmece                     25\n",
       "Bakırköy                         24\n",
       "Sarıyer                          23\n",
       "Beşiktaş                         22\n",
       "Sultanbeyli                      21\n",
       "Güngören                         21\n",
       "Bağcılar                         18\n",
       "Bayrampaşa                       15\n",
       "Arnavutköy                       15\n",
       "Tuzla                            14\n",
       "Ataşehir                         12\n",
       "Silivri                          10\n",
       "Esenler                           9\n",
       "Beyoğlu                           6\n",
       "Zeytinburnu                       6\n",
       "Çatalca                           4\n",
       "Beykoz                            4\n",
       "Ataşehir Satılık Bina             3\n",
       "Fatih Satılık Bina                3\n",
       "Üsküdar Satılık Yalı Dairesi      1\n",
       "Şile                              1\n",
       "Beykoz Satılık Köşk               1\n",
       "Küçükçekmece Satılık Bina         1\n",
       "Name: Semt, dtype: int64"
      ]
     },
     "execution_count": 12,
     "metadata": {},
     "output_type": "execute_result"
    }
   ],
   "source": [
    "dftest[\"Semt\"].value_counts()"
   ]
  },
  {
   "cell_type": "code",
   "execution_count": 51,
   "id": "17f937a6-e288-45e4-ac5f-5efa7d3f70d4",
   "metadata": {},
   "outputs": [],
   "source": [
    "dftest.to_excel(\"dfemlakjet1.xlsx\")"
   ]
  },
  {
   "cell_type": "code",
   "execution_count": 52,
   "id": "dd0931c8-6fdd-49e8-b3d6-44aa32963b33",
   "metadata": {},
   "outputs": [],
   "source": [
    "dftest.to_csv(\"dfemlakjet1.csv\")"
   ]
  }
 ],
 "metadata": {
  "kernelspec": {
   "display_name": "Python 3",
   "language": "python",
   "name": "python3"
  },
  "language_info": {
   "codemirror_mode": {
    "name": "ipython",
    "version": 3
   },
   "file_extension": ".py",
   "mimetype": "text/x-python",
   "name": "python",
   "nbconvert_exporter": "python",
   "pygments_lexer": "ipython3",
   "version": "3.8.8"
  }
 },
 "nbformat": 4,
 "nbformat_minor": 5
}
